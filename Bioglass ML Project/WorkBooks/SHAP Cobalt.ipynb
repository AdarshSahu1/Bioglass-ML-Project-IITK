{
 "cells": [
  {
   "cell_type": "code",
   "execution_count": 1,
   "id": "fbd65f3d",
   "metadata": {},
   "outputs": [
    {
     "name": "stdout",
     "output_type": "stream",
     "text": [
      "Collecting package metadata (current_repodata.json): ...working... done\n",
      "Solving environment: ...working... unsuccessful initial attempt using frozen solve. Retrying with flexible solve.\n",
      "Collecting package metadata (repodata.json): ...working... done\n",
      "Solving environment: ...working... unsuccessful initial attempt using frozen solve. Retrying with flexible solve.\n"
     ]
    },
    {
     "name": "stderr",
     "output_type": "stream",
     "text": [
      "\n",
      "PackagesNotFoundError: The following packages are not available from current channels:\n",
      "\n",
      "  - numpy=1.24.0\n",
      "\n",
      "Current channels:\n",
      "\n",
      "  - https://repo.anaconda.com/pkgs/main/win-64\n",
      "  - https://repo.anaconda.com/pkgs/main/noarch\n",
      "  - https://repo.anaconda.com/pkgs/r/win-64\n",
      "  - https://repo.anaconda.com/pkgs/r/noarch\n",
      "  - https://repo.anaconda.com/pkgs/msys2/win-64\n",
      "  - https://repo.anaconda.com/pkgs/msys2/noarch\n",
      "\n",
      "To search for alternate channels that may provide the conda package you're\n",
      "looking for, navigate to\n",
      "\n",
      "    https://anaconda.org\n",
      "\n",
      "and use the search bar at the top of the page.\n",
      "\n",
      "\n"
     ]
    },
    {
     "name": "stdout",
     "output_type": "stream",
     "text": [
      "Requirement already satisfied: shap in c:\\users\\29200\\anaconda3\\lib\\site-packages (0.46.0)\n",
      "Requirement already satisfied: numpy in c:\\users\\29200\\anaconda3\\lib\\site-packages (from shap) (1.24.3)\n",
      "Requirement already satisfied: scipy in c:\\users\\29200\\anaconda3\\lib\\site-packages (from shap) (1.10.1)\n",
      "Requirement already satisfied: scikit-learn in c:\\users\\29200\\anaconda3\\lib\\site-packages (from shap) (1.2.2)\n",
      "Requirement already satisfied: pandas in c:\\users\\29200\\anaconda3\\lib\\site-packages (from shap) (2.0.3)\n",
      "Requirement already satisfied: tqdm>=4.27.0 in c:\\users\\29200\\anaconda3\\lib\\site-packages (from shap) (4.65.0)\n",
      "Requirement already satisfied: packaging>20.9 in c:\\users\\29200\\anaconda3\\lib\\site-packages (from shap) (23.0)\n",
      "Requirement already satisfied: slicer==0.0.8 in c:\\users\\29200\\anaconda3\\lib\\site-packages (from shap) (0.0.8)\n",
      "Requirement already satisfied: numba in c:\\users\\29200\\anaconda3\\lib\\site-packages (from shap) (0.57.0)\n",
      "Requirement already satisfied: cloudpickle in c:\\users\\29200\\anaconda3\\lib\\site-packages (from shap) (2.2.1)\n",
      "Requirement already satisfied: colorama in c:\\users\\29200\\anaconda3\\lib\\site-packages (from tqdm>=4.27.0->shap) (0.4.6)\n",
      "Requirement already satisfied: llvmlite<0.41,>=0.40.0dev0 in c:\\users\\29200\\anaconda3\\lib\\site-packages (from numba->shap) (0.40.0)\n",
      "Requirement already satisfied: python-dateutil>=2.8.2 in c:\\users\\29200\\anaconda3\\lib\\site-packages (from pandas->shap) (2.8.2)\n",
      "Requirement already satisfied: pytz>=2020.1 in c:\\users\\29200\\anaconda3\\lib\\site-packages (from pandas->shap) (2022.7)\n",
      "Requirement already satisfied: tzdata>=2022.1 in c:\\users\\29200\\anaconda3\\lib\\site-packages (from pandas->shap) (2023.3)\n",
      "Requirement already satisfied: joblib>=1.1.1 in c:\\users\\29200\\anaconda3\\lib\\site-packages (from scikit-learn->shap) (1.2.0)\n",
      "Requirement already satisfied: threadpoolctl>=2.0.0 in c:\\users\\29200\\anaconda3\\lib\\site-packages (from scikit-learn->shap) (2.2.0)\n",
      "Requirement already satisfied: six>=1.5 in c:\\users\\29200\\anaconda3\\lib\\site-packages (from python-dateutil>=2.8.2->pandas->shap) (1.16.0)\n",
      "Collecting package metadata (current_repodata.json): ...working... done\n",
      "Solving environment: ...working... done\n",
      "\n",
      "## Package Plan ##\n",
      "\n",
      "  environment location: C:\\Users\\29200\\anaconda3\n",
      "\n",
      "  added / updated specs:\n",
      "    - pandas\n",
      "    - scikit-learn\n",
      "\n",
      "\n",
      "The following packages will be downloaded:\n",
      "\n",
      "    package                    |            build\n",
      "    ---------------------------|-----------------\n",
      "    scikit-learn-1.4.2         |  py311hf62ec03_1         9.0 MB\n",
      "    ------------------------------------------------------------\n",
      "                                           Total:         9.0 MB\n",
      "\n",
      "The following packages will be UPDATED:\n",
      "\n",
      "  scikit-learn                        1.2.2-py311hd77b12b_1 --> 1.4.2-py311hf62ec03_1 \n",
      "\n",
      "\n",
      "\n",
      "Downloading and Extracting Packages\n",
      "\n",
      "scikit-learn-1.4.2   | 9.0 MB    |            |   0% \n",
      "scikit-learn-1.4.2   | 9.0 MB    |            |   0% \n",
      "scikit-learn-1.4.2   | 9.0 MB    | 1          |   2% \n",
      "scikit-learn-1.4.2   | 9.0 MB    | 4          |   4% \n",
      "scikit-learn-1.4.2   | 9.0 MB    | 5          |   6% \n",
      "scikit-learn-1.4.2   | 9.0 MB    | 8          |   8% \n",
      "scikit-learn-1.4.2   | 9.0 MB    | #1         |  11% \n",
      "scikit-learn-1.4.2   | 9.0 MB    | #4         |  14% \n",
      "scikit-learn-1.4.2   | 9.0 MB    | #6         |  17% \n",
      "scikit-learn-1.4.2   | 9.0 MB    | ##         |  21% \n",
      "scikit-learn-1.4.2   | 9.0 MB    | ##4        |  24% \n",
      "scikit-learn-1.4.2   | 9.0 MB    | ##8        |  29% \n",
      "scikit-learn-1.4.2   | 9.0 MB    | ###2       |  32% \n",
      "scikit-learn-1.4.2   | 9.0 MB    | ###7       |  38% \n",
      "scikit-learn-1.4.2   | 9.0 MB    | ####3      |  43% \n",
      "scikit-learn-1.4.2   | 9.0 MB    | ####7      |  47% \n",
      "scikit-learn-1.4.2   | 9.0 MB    | #####3     |  53% \n",
      "scikit-learn-1.4.2   | 9.0 MB    | ######1    |  61% \n",
      "scikit-learn-1.4.2   | 9.0 MB    | ######5    |  66% \n",
      "scikit-learn-1.4.2   | 9.0 MB    | #######1   |  72% \n",
      "scikit-learn-1.4.2   | 9.0 MB    | #######6   |  77% \n",
      "scikit-learn-1.4.2   | 9.0 MB    | ########3  |  83% \n",
      "scikit-learn-1.4.2   | 9.0 MB    | #########  |  91% \n",
      "scikit-learn-1.4.2   | 9.0 MB    | #########6 |  97% \n",
      "scikit-learn-1.4.2   | 9.0 MB    | ########## | 100% \n",
      "                                                     \n",
      "\n",
      "\n",
      "Preparing transaction: ...working... done\n",
      "Verifying transaction: ...working... done\n",
      "Executing transaction: ...working... done\n"
     ]
    },
    {
     "name": "stderr",
     "output_type": "stream",
     "text": [
      "\n",
      "\n",
      "==> WARNING: A newer version of conda exists. <==\n",
      "  current version: 23.5.2\n",
      "  latest version: 24.5.0\n",
      "\n",
      "Please update conda by running\n",
      "\n",
      "    $ conda update -n base -c defaults conda\n",
      "\n",
      "Or to minimize the number of packages updated during conda update use\n",
      "\n",
      "     conda install conda=24.5.0\n",
      "\n",
      "\n"
     ]
    }
   ],
   "source": [
    "!conda install numpy=1.24.0 -y\n",
    "!pip install shap\n",
    "!conda install scikit-learn pandas -y\n"
   ]
  },
  {
   "cell_type": "code",
   "execution_count": null,
   "id": "ec310078",
   "metadata": {},
   "outputs": [],
   "source": []
  }
 ],
 "metadata": {
  "kernelspec": {
   "display_name": "Python 3 (ipykernel)",
   "language": "python",
   "name": "python3"
  },
  "language_info": {
   "codemirror_mode": {
    "name": "ipython",
    "version": 3
   },
   "file_extension": ".py",
   "mimetype": "text/x-python",
   "name": "python",
   "nbconvert_exporter": "python",
   "pygments_lexer": "ipython3",
   "version": "3.11.3"
  }
 },
 "nbformat": 4,
 "nbformat_minor": 5
}
