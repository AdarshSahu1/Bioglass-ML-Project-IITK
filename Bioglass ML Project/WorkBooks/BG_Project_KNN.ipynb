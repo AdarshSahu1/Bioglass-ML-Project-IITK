{
 "cells": [
  {
   "cell_type": "code",
   "execution_count": 1,
   "id": "51012e21",
   "metadata": {},
   "outputs": [],
   "source": [
    "import pandas as pd"
   ]
  },
  {
   "cell_type": "code",
   "execution_count": 2,
   "id": "4ca493ba",
   "metadata": {
    "scrolled": true
   },
   "outputs": [
    {
     "data": {
      "text/plain": [
       "'2.0.3'"
      ]
     },
     "execution_count": 2,
     "metadata": {},
     "output_type": "execute_result"
    }
   ],
   "source": [
    "pd.__version__\n"
   ]
  },
  {
   "cell_type": "code",
   "execution_count": 3,
   "id": "18d6ca5c",
   "metadata": {},
   "outputs": [],
   "source": [
    "df=pd.read_excel(r\"C:\\Users\\29200\\Downloads\\DatasetCerium.xlsx\", header=0)"
   ]
  },
  {
   "cell_type": "code",
   "execution_count": 4,
   "id": "0b5086cd",
   "metadata": {},
   "outputs": [
    {
     "name": "stdout",
     "output_type": "stream",
     "text": [
      "Index(['RESEARCH PAPER/ ARTICLE ', 'Class', 'SiO2  ', 'B2O3', 'CaO', 'Na2O',\n",
      "       'P2O5', 'K2O', 'MgO', 'Ce', 'Ce2O3', 'CeO2', 'Co', 'CoO', 'Unnamed: 14',\n",
      "       'Conc.', 'Cell Viability 24', 'Cell Viability 48', 'Cell Viability 72',\n",
      "       'Cell Viability 96', 'Cell Viability 120', 'ALP 7', 'ALP 14', 'ALP 21',\n",
      "       'Surface area m2/g', 'Pore volume cm3/g', 'Pore size nm',\n",
      "       'Pore to pore distance nm', 'Wall thickness nm', 'VEGF'],\n",
      "      dtype='object')\n"
     ]
    }
   ],
   "source": [
    "print(df.columns)"
   ]
  },
  {
   "cell_type": "code",
   "execution_count": 5,
   "id": "d31d2d89",
   "metadata": {},
   "outputs": [
    {
     "name": "stdout",
     "output_type": "stream",
     "text": [
      "                              RESEARCH PAPER/ ARTICLE  Class  SiO2    B2O3  \\\n",
      "0    Effects of cerium-doped bioactive glass incorp...   45S   46.07     0   \n",
      "1                                                  NaN   45S   50.00     0   \n",
      "2    Mesoporous bioactive glasses doped with cerium...   80G   80.00     0   \n",
      "3                                                  NaN   70G   75.80     0   \n",
      "4                                                  NaN   80G   80.00     0   \n",
      "..                                                 ...   ...     ...   ...   \n",
      "97                                                 NaN   58S   60.00     0   \n",
      "98                                                 NaN   58S   60.00     0   \n",
      "99                                                 NaN   58S   60.00     0   \n",
      "100  Cerium, gallium and zinc containing mesoporous...   80G   80.00     0   \n",
      "101                                                NaN   80G   79.00     0   \n",
      "\n",
      "      CaO  Na2O  P2O5  K2O  MgO   Ce  ...  Cell Viability 120  ALP 7  ALP 14  \\\n",
      "0    26.9  24.4  2.55    0    0  0.0  ...               100.0    4.8     9.0   \n",
      "1    40.0   0.0  5.00    0    0  0.0  ...               120.0    5.5    21.5   \n",
      "2    15.0   0.0  5.00    0    0  0.0  ...                 NaN    NaN     NaN   \n",
      "3    14.2   0.0  4.70    0    0  0.0  ...                 NaN    NaN     NaN   \n",
      "4    20.0   0.0  0.00    0    0  0.0  ...                 NaN    NaN     NaN   \n",
      "..    ...   ...   ...  ...  ...  ...  ...                 ...    ...     ...   \n",
      "97   28.0   0.0  4.00    0    0  0.0  ...                 NaN    NaN     NaN   \n",
      "98   28.0   0.0  4.00    0    0  0.0  ...                 NaN    NaN     NaN   \n",
      "99   28.0   0.0  4.00    0    0  0.0  ...                 NaN    NaN     NaN   \n",
      "100  15.0   0.0  5.00    0    0  0.0  ...                 NaN    NaN     NaN   \n",
      "101  15.0   0.0  5.00    0    0  0.0  ...                 NaN    NaN     NaN   \n",
      "\n",
      "     ALP 21  Surface area m2/g  Pore volume cm3/g  Pore size nm  \\\n",
      "0       8.2                NaN                NaN           NaN   \n",
      "1      15.5                NaN                NaN           NaN   \n",
      "2       NaN              420.0              0.521           4.1   \n",
      "3       NaN              315.0              0.274           3.6   \n",
      "4       NaN              433.0            511.000           4.0   \n",
      "..      ...                ...                ...           ...   \n",
      "97      NaN                NaN                NaN           NaN   \n",
      "98      NaN                NaN                NaN           NaN   \n",
      "99      NaN                NaN                NaN           NaN   \n",
      "100     NaN              354.0              0.426           4.1   \n",
      "101     NaN              266.0              0.282           3.5   \n",
      "\n",
      "     Pore to pore distance nm  Wall thickness nm  VEGF  \n",
      "0                         NaN                NaN   NaN  \n",
      "1                         NaN                NaN   NaN  \n",
      "2                         NaN                NaN   NaN  \n",
      "3                         NaN                NaN   NaN  \n",
      "4                         NaN                NaN   NaN  \n",
      "..                        ...                ...   ...  \n",
      "97                        NaN                NaN   NaN  \n",
      "98                        NaN                NaN   NaN  \n",
      "99                        NaN                NaN   NaN  \n",
      "100                       NaN                NaN   NaN  \n",
      "101                       NaN                NaN   NaN  \n",
      "\n",
      "[102 rows x 30 columns]\n"
     ]
    }
   ],
   "source": [
    "print(df)"
   ]
  },
  {
   "cell_type": "code",
   "execution_count": 6,
   "id": "4dd3af0d",
   "metadata": {},
   "outputs": [],
   "source": [
    "import numpy as np\n",
    "import pandas as pd\n",
    "from sklearn.impute import KNNImputer\n",
    "\n",
    "# Load the dataset\n",
    "file_path = r\"C:\\Users\\29200\\Downloads\\DatasetCerium.xlsx\"\n",
    "df = pd.read_excel(file_path)\n",
    "\n",
    "# Strip leading and trailing spaces from column names\n",
    "df.columns = df.columns.str.strip()\n",
    "\n",
    "# Replace non-numeric 'alp' with NaN in the 'ALP 7' column\n",
    "df['ALP 7'] = pd.to_numeric(df['ALP 7'], errors='coerce')\n",
    "\n",
    "# Identify the columns to impute (from 'Cell Viability 24' to 'Wall thickness nm')\n",
    "columns_to_impute = df.loc[:, 'Cell Viability 24':'Wall thickness nm'].columns\n",
    "\n",
    "# Check for columns with all NaN values and drop them for imputation\n",
    "columns_with_all_nan = df[columns_to_impute].columns[df[columns_to_impute].isna().all()]\n",
    "\n",
    "# Drop these columns from the imputation\n",
    "columns_to_impute = columns_to_impute.difference(columns_with_all_nan)\n",
    "\n",
    "# Create a KNN Imputer\n",
    "knn_imputer = KNNImputer(n_neighbors=5)  # Adjust n_neighbors as needed\n",
    "\n",
    "# Perform the imputation on the selected columns\n",
    "df_to_impute = df[columns_to_impute].copy()  # Copy the specific columns\n",
    "df_imputed = pd.DataFrame(knn_imputer.fit_transform(df_to_impute), columns=columns_to_impute)\n",
    "\n",
    "# Merge the imputed data back with the original dataframe\n",
    "df[columns_to_impute] = df_imputed\n",
    "\n",
    "# Optionally, fill back columns with all NaN values\n",
    "for col in columns_with_all_nan:\n",
    "    df[col] = np.nan\n",
    "\n",
    "# Save the imputed dataset back to an Excel file\n",
    "output_file_path = r\"C:\\Users\\29200\\Downloads\\DatasetCerium_Imputed_KNN.xlsx\"  # Update this path to your desired location\n",
    "df.to_excel(output_file_path, index=False)"
   ]
  },
  {
   "cell_type": "code",
   "execution_count": 53,
   "id": "3bb64108",
   "metadata": {},
   "outputs": [
    {
     "name": "stdout",
     "output_type": "stream",
     "text": [
      "                             RESEARCH PAPER/ ARTICLE Class   SiO2  B2O3   CaO  \\\n",
      "0  Effects of cerium-doped bioactive glass incorp...   45S  46.07     0  26.9   \n",
      "1                                                NaN   45S  50.00     0  40.0   \n",
      "2  Mesoporous bioactive glasses doped with cerium...   80G  80.00     0  15.0   \n",
      "3                                                NaN   70G  75.80     0  14.2   \n",
      "4                                                NaN   80G  80.00     0  20.0   \n",
      "\n",
      "   Na2O  P2O5  K2O  MgO   Ce  ...  Cell Viability 120      ALP 7     ALP 14  \\\n",
      "0  24.4  2.55    0    0  0.0  ...          100.000000   4.800000   9.000000   \n",
      "1   0.0  5.00    0    0  0.0  ...          120.000000   5.500000  21.500000   \n",
      "2   0.0  5.00    0    0  0.0  ...          152.940679   1.398544  42.082324   \n",
      "3   0.0  4.70    0    0  0.0  ...          127.830568   1.368867  26.392930   \n",
      "4   0.0  0.00    0    0  0.0  ...           92.047023  49.290343   4.038628   \n",
      "\n",
      "      ALP 21  Surface area m2/g  Pore volume cm3/g  Pore size nm  \\\n",
      "0   8.200000         291.049339          24.726171      3.850220   \n",
      "1  15.500000         289.525588           4.679773      2.490548   \n",
      "2  27.520928         420.000000           0.521000      4.100000   \n",
      "3  18.357600         315.000000           0.274000      3.600000   \n",
      "4   5.301264         433.000000         511.000000      4.000000   \n",
      "\n",
      "   Pore to pore distance nm  Wall thickness nm  VEGF  \n",
      "0                       NaN                NaN   NaN  \n",
      "1                       NaN                NaN   NaN  \n",
      "2                       NaN                NaN   NaN  \n",
      "3                       NaN                NaN   NaN  \n",
      "4                       NaN                NaN   NaN  \n",
      "\n",
      "[5 rows x 30 columns]\n",
      "RESEARCH PAPER/ ARTICLE      88\n",
      "Class                         0\n",
      "SiO2                          0\n",
      "B2O3                          0\n",
      "CaO                           0\n",
      "Na2O                          0\n",
      "P2O5                          0\n",
      "K2O                           0\n",
      "MgO                           0\n",
      "Ce                            0\n",
      "Ce2O3                         0\n",
      "CeO2                          0\n",
      "Co                            0\n",
      "CoO                           0\n",
      "Unnamed: 14                 102\n",
      "Conc.                         0\n",
      "Cell Viability 24             0\n",
      "Cell Viability 48             0\n",
      "Cell Viability 72             0\n",
      "Cell Viability 96             0\n",
      "Cell Viability 120            0\n",
      "ALP 7                         0\n",
      "ALP 14                        0\n",
      "ALP 21                        0\n",
      "Surface area m2/g             0\n",
      "Pore volume cm3/g             0\n",
      "Pore size nm                  0\n",
      "Pore to pore distance nm    102\n",
      "Wall thickness nm           102\n",
      "VEGF                        102\n",
      "dtype: int64\n"
     ]
    }
   ],
   "source": [
    "# Load and display the imputed dataset to confirm\n",
    "df_imputed_confirm = pd.read_excel(output_file_path)\n",
    "print(df_imputed_confirm.head())\n",
    "print(df_imputed_confirm.isnull().sum())\n"
   ]
  }
 ],
 "metadata": {
  "kernelspec": {
   "display_name": "Python 3 (ipykernel)",
   "language": "python",
   "name": "python3"
  },
  "language_info": {
   "codemirror_mode": {
    "name": "ipython",
    "version": 3
   },
   "file_extension": ".py",
   "mimetype": "text/x-python",
   "name": "python",
   "nbconvert_exporter": "python",
   "pygments_lexer": "ipython3",
   "version": "3.11.3"
  }
 },
 "nbformat": 4,
 "nbformat_minor": 5
}
